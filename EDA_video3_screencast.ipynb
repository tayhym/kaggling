{
 "cells": [
  {
   "cell_type": "markdown",
   "metadata": {},
   "source": [
    "**IMPORTANT:** You will not be able to run this notebook at coursera platform, as the dataset is not there. The notebook is in read-only mode.\n",
    "\n",
    "But you can run the notebook locally and download the dataset using [this link](https://habrastorage.org/storage/stuff/special/beeline/00.beeline_bigdata.zip) to explore the data interactively. "
   ]
  },
  {
   "cell_type": "code",
   "execution_count": 20,
   "metadata": {},
   "outputs": [],
   "source": [
    "import pandas as pd\n",
    "import numpy as np\n",
    "import matplotlib.pyplot as plt\n",
    "pd.set_option('max_columns', 100)"
   ]
  },
  {
   "cell_type": "markdown",
   "metadata": {},
   "source": [
    "# Load the data"
   ]
  },
  {
   "cell_type": "code",
   "execution_count": 21,
   "metadata": {},
   "outputs": [
    {
     "data": {
      "text/html": [
       "<div>\n",
       "<style scoped>\n",
       "    .dataframe tbody tr th:only-of-type {\n",
       "        vertical-align: middle;\n",
       "    }\n",
       "\n",
       "    .dataframe tbody tr th {\n",
       "        vertical-align: top;\n",
       "    }\n",
       "\n",
       "    .dataframe thead th {\n",
       "        text-align: right;\n",
       "    }\n",
       "</style>\n",
       "<table border=\"1\" class=\"dataframe\">\n",
       "  <thead>\n",
       "    <tr style=\"text-align: right;\">\n",
       "      <th></th>\n",
       "      <th>x0</th>\n",
       "      <th>x1</th>\n",
       "      <th>x2</th>\n",
       "      <th>x3</th>\n",
       "      <th>x4</th>\n",
       "      <th>x5</th>\n",
       "      <th>x6</th>\n",
       "      <th>x7</th>\n",
       "      <th>x8</th>\n",
       "      <th>x9</th>\n",
       "      <th>x10</th>\n",
       "      <th>x11</th>\n",
       "      <th>x12</th>\n",
       "      <th>x13</th>\n",
       "      <th>x14</th>\n",
       "      <th>x15</th>\n",
       "      <th>x16</th>\n",
       "      <th>x17</th>\n",
       "      <th>x18</th>\n",
       "      <th>x19</th>\n",
       "      <th>x20</th>\n",
       "      <th>x21</th>\n",
       "      <th>x22</th>\n",
       "      <th>x23</th>\n",
       "      <th>x24</th>\n",
       "      <th>x25</th>\n",
       "      <th>x26</th>\n",
       "      <th>x27</th>\n",
       "      <th>x28</th>\n",
       "      <th>x29</th>\n",
       "      <th>x30</th>\n",
       "      <th>x31</th>\n",
       "      <th>x32</th>\n",
       "      <th>x33</th>\n",
       "      <th>x34</th>\n",
       "      <th>x35</th>\n",
       "      <th>x36</th>\n",
       "      <th>x37</th>\n",
       "      <th>x38</th>\n",
       "      <th>x39</th>\n",
       "      <th>x40</th>\n",
       "      <th>x41</th>\n",
       "      <th>x42</th>\n",
       "      <th>x43</th>\n",
       "      <th>x44</th>\n",
       "      <th>x45</th>\n",
       "      <th>x46</th>\n",
       "      <th>x47</th>\n",
       "      <th>x48</th>\n",
       "      <th>x49</th>\n",
       "      <th>x50</th>\n",
       "      <th>x51</th>\n",
       "      <th>x52</th>\n",
       "      <th>x53</th>\n",
       "      <th>x54</th>\n",
       "      <th>x55</th>\n",
       "      <th>x56</th>\n",
       "      <th>x57</th>\n",
       "      <th>x58</th>\n",
       "      <th>x59</th>\n",
       "      <th>x60</th>\n",
       "      <th>x61</th>\n",
       "      <th>y</th>\n",
       "    </tr>\n",
       "  </thead>\n",
       "  <tbody>\n",
       "    <tr>\n",
       "      <th>0</th>\n",
       "      <td>b4d8a653ea</td>\n",
       "      <td>16a14a2d17</td>\n",
       "      <td>06330986ed</td>\n",
       "      <td>ca63304de0</td>\n",
       "      <td>a62168d626</td>\n",
       "      <td>1746600cb0</td>\n",
       "      <td>1</td>\n",
       "      <td>1</td>\n",
       "      <td>-0.688706</td>\n",
       "      <td>7e5c97705a</td>\n",
       "      <td>e5df3eff9b</td>\n",
       "      <td>91bb549494</td>\n",
       "      <td>e33c63cf35</td>\n",
       "      <td>3694.0</td>\n",
       "      <td>6e40247e69</td>\n",
       "      <td>617a4ad3f9</td>\n",
       "      <td>718c61545b</td>\n",
       "      <td>c26d08129a</td>\n",
       "      <td>634e3cf3ac</td>\n",
       "      <td>dd9c9e0da2</td>\n",
       "      <td>17c99905b6</td>\n",
       "      <td>513a3e3f36</td>\n",
       "      <td>9aba4d7f51</td>\n",
       "      <td>40.579612</td>\n",
       "      <td>-0.112693</td>\n",
       "      <td>-0.172191</td>\n",
       "      <td>1.166667</td>\n",
       "      <td>1.674538</td>\n",
       "      <td>0.630889</td>\n",
       "      <td>37.000000</td>\n",
       "      <td>1.294922</td>\n",
       "      <td>55.0</td>\n",
       "      <td>0.166667</td>\n",
       "      <td>10.0</td>\n",
       "      <td>0.0</td>\n",
       "      <td>0.000000</td>\n",
       "      <td>1.0</td>\n",
       "      <td>9.0</td>\n",
       "      <td>0.0</td>\n",
       "      <td>1.0</td>\n",
       "      <td>23.0</td>\n",
       "      <td>3.67</td>\n",
       "      <td>0.12</td>\n",
       "      <td>1.935</td>\n",
       "      <td>2.2</td>\n",
       "      <td>0.625</td>\n",
       "      <td>0.250</td>\n",
       "      <td>0.125</td>\n",
       "      <td>0.000</td>\n",
       "      <td>0.813</td>\n",
       "      <td>0.074</td>\n",
       "      <td>0.634</td>\n",
       "      <td>0.548</td>\n",
       "      <td>0.235333</td>\n",
       "      <td>0.264952</td>\n",
       "      <td>0.000000</td>\n",
       "      <td>0.333333</td>\n",
       "      <td>0.333333</td>\n",
       "      <td>0.333333</td>\n",
       "      <td>0.000000</td>\n",
       "      <td>0.000000</td>\n",
       "      <td>9.0</td>\n",
       "      <td>2</td>\n",
       "    </tr>\n",
       "    <tr>\n",
       "      <th>1</th>\n",
       "      <td>467f9617a3</td>\n",
       "      <td>16a14a2d17</td>\n",
       "      <td>06330986ed</td>\n",
       "      <td>ca63304de0</td>\n",
       "      <td>b7584c2d52</td>\n",
       "      <td>1746600cb0</td>\n",
       "      <td>1</td>\n",
       "      <td>1</td>\n",
       "      <td>0.870871</td>\n",
       "      <td>5624b8f759</td>\n",
       "      <td>fa0b797a92</td>\n",
       "      <td>669ea3d319</td>\n",
       "      <td>f178803074</td>\n",
       "      <td>18156.0</td>\n",
       "      <td>01ede04b4b</td>\n",
       "      <td>617a4ad3f9</td>\n",
       "      <td>718c61545b</td>\n",
       "      <td>d342e2765f</td>\n",
       "      <td>bb20e1ca06</td>\n",
       "      <td>8a6c8cef83</td>\n",
       "      <td>1b02793146</td>\n",
       "      <td>992153ed65</td>\n",
       "      <td>9aba4d7f51</td>\n",
       "      <td>28.765503</td>\n",
       "      <td>2.612285</td>\n",
       "      <td>2.159091</td>\n",
       "      <td>4.000000</td>\n",
       "      <td>1.710714</td>\n",
       "      <td>1.713538</td>\n",
       "      <td>0.166667</td>\n",
       "      <td>0.027669</td>\n",
       "      <td>109.0</td>\n",
       "      <td>0.000000</td>\n",
       "      <td>31.0</td>\n",
       "      <td>0.0</td>\n",
       "      <td>0.000000</td>\n",
       "      <td>1.0</td>\n",
       "      <td>244.0</td>\n",
       "      <td>1.0</td>\n",
       "      <td>1.0</td>\n",
       "      <td>68.0</td>\n",
       "      <td>17.25</td>\n",
       "      <td>0.57</td>\n",
       "      <td>3.452</td>\n",
       "      <td>4.0</td>\n",
       "      <td>0.409</td>\n",
       "      <td>0.619</td>\n",
       "      <td>0.579</td>\n",
       "      <td>0.248</td>\n",
       "      <td>0.346</td>\n",
       "      <td>0.541</td>\n",
       "      <td>0.522</td>\n",
       "      <td>0.000</td>\n",
       "      <td>1.782346</td>\n",
       "      <td>1.322409</td>\n",
       "      <td>0.011647</td>\n",
       "      <td>0.397671</td>\n",
       "      <td>0.239601</td>\n",
       "      <td>0.249584</td>\n",
       "      <td>0.068220</td>\n",
       "      <td>0.033278</td>\n",
       "      <td>601.0</td>\n",
       "      <td>4</td>\n",
       "    </tr>\n",
       "    <tr>\n",
       "      <th>2</th>\n",
       "      <td>190436e528</td>\n",
       "      <td>16a14a2d17</td>\n",
       "      <td>06330986ed</td>\n",
       "      <td>ca63304de0</td>\n",
       "      <td>b7584c2d52</td>\n",
       "      <td>1746600cb0</td>\n",
       "      <td>1</td>\n",
       "      <td>1</td>\n",
       "      <td>0.437655</td>\n",
       "      <td>5624b8f759</td>\n",
       "      <td>152af2cb2f</td>\n",
       "      <td>91bb549494</td>\n",
       "      <td>e33c63cf35</td>\n",
       "      <td>1178.0</td>\n",
       "      <td>cc69cbe29a</td>\n",
       "      <td>617a4ad3f9</td>\n",
       "      <td>e8a040423a</td>\n",
       "      <td>c82c3dbd33</td>\n",
       "      <td>ee3501282b</td>\n",
       "      <td>199ce7c484</td>\n",
       "      <td>5f17dedd5c</td>\n",
       "      <td>5c5025bd0a</td>\n",
       "      <td>9aba4d7f51</td>\n",
       "      <td>24.943933</td>\n",
       "      <td>-0.814660</td>\n",
       "      <td>-0.708308</td>\n",
       "      <td>1.500000</td>\n",
       "      <td>-0.512422</td>\n",
       "      <td>-0.733967</td>\n",
       "      <td>0.333333</td>\n",
       "      <td>14.837728</td>\n",
       "      <td>11.0</td>\n",
       "      <td>0.000000</td>\n",
       "      <td>24.0</td>\n",
       "      <td>0.0</td>\n",
       "      <td>0.000000</td>\n",
       "      <td>1.0</td>\n",
       "      <td>29.0</td>\n",
       "      <td>0.0</td>\n",
       "      <td>3.0</td>\n",
       "      <td>11.0</td>\n",
       "      <td>4.42</td>\n",
       "      <td>0.15</td>\n",
       "      <td>0.161</td>\n",
       "      <td>0.2</td>\n",
       "      <td>1.000</td>\n",
       "      <td>1.000</td>\n",
       "      <td>1.000</td>\n",
       "      <td>1.000</td>\n",
       "      <td>1.000</td>\n",
       "      <td>0.520</td>\n",
       "      <td>0.533</td>\n",
       "      <td>0.835</td>\n",
       "      <td>-0.586540</td>\n",
       "      <td>0.672436</td>\n",
       "      <td>0.000000</td>\n",
       "      <td>0.606061</td>\n",
       "      <td>0.121212</td>\n",
       "      <td>0.212121</td>\n",
       "      <td>0.060606</td>\n",
       "      <td>0.000000</td>\n",
       "      <td>33.0</td>\n",
       "      <td>3</td>\n",
       "    </tr>\n",
       "    <tr>\n",
       "      <th>3</th>\n",
       "      <td>43859085bc</td>\n",
       "      <td>16a14a2d17</td>\n",
       "      <td>06330986ed</td>\n",
       "      <td>ca63304de0</td>\n",
       "      <td>a62168d626</td>\n",
       "      <td>1746600cb0</td>\n",
       "      <td>1</td>\n",
       "      <td>1</td>\n",
       "      <td>0.004439</td>\n",
       "      <td>f67f142e40</td>\n",
       "      <td>c4dd2197c3</td>\n",
       "      <td>91bb549494</td>\n",
       "      <td>e33c63cf35</td>\n",
       "      <td>14559.0</td>\n",
       "      <td>6e40247e69</td>\n",
       "      <td>617a4ad3f9</td>\n",
       "      <td>718c61545b</td>\n",
       "      <td>c26d08129a</td>\n",
       "      <td>9e166b965d</td>\n",
       "      <td>466f8951b0</td>\n",
       "      <td>fde72a6d5c</td>\n",
       "      <td>acfadc5c01</td>\n",
       "      <td>9aba4d7f51</td>\n",
       "      <td>41.576860</td>\n",
       "      <td>-0.907833</td>\n",
       "      <td>-0.761736</td>\n",
       "      <td>0.500000</td>\n",
       "      <td>-0.627525</td>\n",
       "      <td>-0.805801</td>\n",
       "      <td>1.166667</td>\n",
       "      <td>0.004395</td>\n",
       "      <td>0.0</td>\n",
       "      <td>0.500000</td>\n",
       "      <td>0.0</td>\n",
       "      <td>0.0</td>\n",
       "      <td>0.000000</td>\n",
       "      <td>7.0</td>\n",
       "      <td>7.0</td>\n",
       "      <td>0.0</td>\n",
       "      <td>3.0</td>\n",
       "      <td>15.0</td>\n",
       "      <td>8.92</td>\n",
       "      <td>0.29</td>\n",
       "      <td>0.226</td>\n",
       "      <td>0.8</td>\n",
       "      <td>0.000</td>\n",
       "      <td>0.000</td>\n",
       "      <td>0.000</td>\n",
       "      <td>0.000</td>\n",
       "      <td>0.000</td>\n",
       "      <td>1.000</td>\n",
       "      <td>0.000</td>\n",
       "      <td>0.000</td>\n",
       "      <td>-1.600326</td>\n",
       "      <td>-1.838680</td>\n",
       "      <td>0.000000</td>\n",
       "      <td>1.000000</td>\n",
       "      <td>0.000000</td>\n",
       "      <td>0.000000</td>\n",
       "      <td>0.000000</td>\n",
       "      <td>0.000000</td>\n",
       "      <td>1.0</td>\n",
       "      <td>4</td>\n",
       "    </tr>\n",
       "    <tr>\n",
       "      <th>4</th>\n",
       "      <td>a4c3095b75</td>\n",
       "      <td>16a14a2d17</td>\n",
       "      <td>06330986ed</td>\n",
       "      <td>ca63304de0</td>\n",
       "      <td>b7584c2d52</td>\n",
       "      <td>1746600cb0</td>\n",
       "      <td>1</td>\n",
       "      <td>1</td>\n",
       "      <td>0.480977</td>\n",
       "      <td>7e5c97705a</td>\n",
       "      <td>e071d01df5</td>\n",
       "      <td>91bb549494</td>\n",
       "      <td>e33c63cf35</td>\n",
       "      <td>5777.0</td>\n",
       "      <td>6e40247e69</td>\n",
       "      <td>617a4ad3f9</td>\n",
       "      <td>4b9480aa42</td>\n",
       "      <td>e84655292c</td>\n",
       "      <td>527b6ca8cc</td>\n",
       "      <td>dd9c9e0da2</td>\n",
       "      <td>17c99905b6</td>\n",
       "      <td>0fc56ea1f0</td>\n",
       "      <td>9aba4d7f51</td>\n",
       "      <td>31.080282</td>\n",
       "      <td>-0.371787</td>\n",
       "      <td>-0.367616</td>\n",
       "      <td>1.666667</td>\n",
       "      <td>0.271307</td>\n",
       "      <td>0.013112</td>\n",
       "      <td>17.333333</td>\n",
       "      <td>1713.439128</td>\n",
       "      <td>33.0</td>\n",
       "      <td>0.000000</td>\n",
       "      <td>6.0</td>\n",
       "      <td>1.0</td>\n",
       "      <td>0.666667</td>\n",
       "      <td>8.0</td>\n",
       "      <td>108.0</td>\n",
       "      <td>1.0</td>\n",
       "      <td>4.0</td>\n",
       "      <td>86.0</td>\n",
       "      <td>1.58</td>\n",
       "      <td>0.05</td>\n",
       "      <td>2.032</td>\n",
       "      <td>2.4</td>\n",
       "      <td>0.348</td>\n",
       "      <td>0.762</td>\n",
       "      <td>0.550</td>\n",
       "      <td>0.392</td>\n",
       "      <td>0.489</td>\n",
       "      <td>0.517</td>\n",
       "      <td>1.000</td>\n",
       "      <td>0.642</td>\n",
       "      <td>0.960991</td>\n",
       "      <td>0.790990</td>\n",
       "      <td>0.020161</td>\n",
       "      <td>0.645161</td>\n",
       "      <td>0.258065</td>\n",
       "      <td>0.036290</td>\n",
       "      <td>0.040323</td>\n",
       "      <td>0.000000</td>\n",
       "      <td>248.0</td>\n",
       "      <td>3</td>\n",
       "    </tr>\n",
       "  </tbody>\n",
       "</table>\n",
       "</div>"
      ],
      "text/plain": [
       "           x0          x1          x2          x3          x4          x5  x6  \\\n",
       "0  b4d8a653ea  16a14a2d17  06330986ed  ca63304de0  a62168d626  1746600cb0   1   \n",
       "1  467f9617a3  16a14a2d17  06330986ed  ca63304de0  b7584c2d52  1746600cb0   1   \n",
       "2  190436e528  16a14a2d17  06330986ed  ca63304de0  b7584c2d52  1746600cb0   1   \n",
       "3  43859085bc  16a14a2d17  06330986ed  ca63304de0  a62168d626  1746600cb0   1   \n",
       "4  a4c3095b75  16a14a2d17  06330986ed  ca63304de0  b7584c2d52  1746600cb0   1   \n",
       "\n",
       "   x7        x8          x9         x10         x11         x12      x13  \\\n",
       "0   1 -0.688706  7e5c97705a  e5df3eff9b  91bb549494  e33c63cf35   3694.0   \n",
       "1   1  0.870871  5624b8f759  fa0b797a92  669ea3d319  f178803074  18156.0   \n",
       "2   1  0.437655  5624b8f759  152af2cb2f  91bb549494  e33c63cf35   1178.0   \n",
       "3   1  0.004439  f67f142e40  c4dd2197c3  91bb549494  e33c63cf35  14559.0   \n",
       "4   1  0.480977  7e5c97705a  e071d01df5  91bb549494  e33c63cf35   5777.0   \n",
       "\n",
       "          x14         x15         x16         x17         x18         x19  \\\n",
       "0  6e40247e69  617a4ad3f9  718c61545b  c26d08129a  634e3cf3ac  dd9c9e0da2   \n",
       "1  01ede04b4b  617a4ad3f9  718c61545b  d342e2765f  bb20e1ca06  8a6c8cef83   \n",
       "2  cc69cbe29a  617a4ad3f9  e8a040423a  c82c3dbd33  ee3501282b  199ce7c484   \n",
       "3  6e40247e69  617a4ad3f9  718c61545b  c26d08129a  9e166b965d  466f8951b0   \n",
       "4  6e40247e69  617a4ad3f9  4b9480aa42  e84655292c  527b6ca8cc  dd9c9e0da2   \n",
       "\n",
       "          x20         x21         x22        x23       x24       x25  \\\n",
       "0  17c99905b6  513a3e3f36  9aba4d7f51  40.579612 -0.112693 -0.172191   \n",
       "1  1b02793146  992153ed65  9aba4d7f51  28.765503  2.612285  2.159091   \n",
       "2  5f17dedd5c  5c5025bd0a  9aba4d7f51  24.943933 -0.814660 -0.708308   \n",
       "3  fde72a6d5c  acfadc5c01  9aba4d7f51  41.576860 -0.907833 -0.761736   \n",
       "4  17c99905b6  0fc56ea1f0  9aba4d7f51  31.080282 -0.371787 -0.367616   \n",
       "\n",
       "        x26       x27       x28        x29          x30    x31       x32  \\\n",
       "0  1.166667  1.674538  0.630889  37.000000     1.294922   55.0  0.166667   \n",
       "1  4.000000  1.710714  1.713538   0.166667     0.027669  109.0  0.000000   \n",
       "2  1.500000 -0.512422 -0.733967   0.333333    14.837728   11.0  0.000000   \n",
       "3  0.500000 -0.627525 -0.805801   1.166667     0.004395    0.0  0.500000   \n",
       "4  1.666667  0.271307  0.013112  17.333333  1713.439128   33.0  0.000000   \n",
       "\n",
       "    x33  x34       x35  x36    x37  x38  x39   x40    x41   x42    x43  x44  \\\n",
       "0  10.0  0.0  0.000000  1.0    9.0  0.0  1.0  23.0   3.67  0.12  1.935  2.2   \n",
       "1  31.0  0.0  0.000000  1.0  244.0  1.0  1.0  68.0  17.25  0.57  3.452  4.0   \n",
       "2  24.0  0.0  0.000000  1.0   29.0  0.0  3.0  11.0   4.42  0.15  0.161  0.2   \n",
       "3   0.0  0.0  0.000000  7.0    7.0  0.0  3.0  15.0   8.92  0.29  0.226  0.8   \n",
       "4   6.0  1.0  0.666667  8.0  108.0  1.0  4.0  86.0   1.58  0.05  2.032  2.4   \n",
       "\n",
       "     x45    x46    x47    x48    x49    x50    x51    x52       x53       x54  \\\n",
       "0  0.625  0.250  0.125  0.000  0.813  0.074  0.634  0.548  0.235333  0.264952   \n",
       "1  0.409  0.619  0.579  0.248  0.346  0.541  0.522  0.000  1.782346  1.322409   \n",
       "2  1.000  1.000  1.000  1.000  1.000  0.520  0.533  0.835 -0.586540  0.672436   \n",
       "3  0.000  0.000  0.000  0.000  0.000  1.000  0.000  0.000 -1.600326 -1.838680   \n",
       "4  0.348  0.762  0.550  0.392  0.489  0.517  1.000  0.642  0.960991  0.790990   \n",
       "\n",
       "        x55       x56       x57       x58       x59       x60    x61  y  \n",
       "0  0.000000  0.333333  0.333333  0.333333  0.000000  0.000000    9.0  2  \n",
       "1  0.011647  0.397671  0.239601  0.249584  0.068220  0.033278  601.0  4  \n",
       "2  0.000000  0.606061  0.121212  0.212121  0.060606  0.000000   33.0  3  \n",
       "3  0.000000  1.000000  0.000000  0.000000  0.000000  0.000000    1.0  4  \n",
       "4  0.020161  0.645161  0.258065  0.036290  0.040323  0.000000  248.0  3  "
      ]
     },
     "execution_count": 21,
     "metadata": {},
     "output_type": "execute_result"
    }
   ],
   "source": [
    "train = pd.read_csv('./lectureData/train.csv')\n",
    "train.head()"
   ]
  },
  {
   "cell_type": "markdown",
   "metadata": {},
   "source": [
    "# Build a quick baseline"
   ]
  },
  {
   "cell_type": "code",
   "execution_count": 22,
   "metadata": {
    "scrolled": true
   },
   "outputs": [
    {
     "name": "stderr",
     "output_type": "stream",
     "text": [
      "c:\\users\\tayhy\\onedrive\\documents\\advancedmachinelearning\\venv\\lib\\site-packages\\sklearn\\ensemble\\forest.py:245: FutureWarning: The default value of n_estimators will change from 10 in version 0.20 to 100 in 0.22.\n",
      "  \"10 in version 0.20 to 100 in 0.22.\", FutureWarning)\n"
     ]
    },
    {
     "data": {
      "text/plain": [
       "RandomForestClassifier(bootstrap=True, class_weight=None, criterion='gini',\n",
       "                       max_depth=None, max_features='auto', max_leaf_nodes=None,\n",
       "                       min_impurity_decrease=0.0, min_impurity_split=None,\n",
       "                       min_samples_leaf=1, min_samples_split=2,\n",
       "                       min_weight_fraction_leaf=0.0, n_estimators=10,\n",
       "                       n_jobs=None, oob_score=False, random_state=None,\n",
       "                       verbose=0, warm_start=False)"
      ]
     },
     "execution_count": 22,
     "metadata": {},
     "output_type": "execute_result"
    }
   ],
   "source": [
    "from sklearn.ensemble import RandomForestClassifier\n",
    "\n",
    "# Create a copy to work with\n",
    "X = train.copy()\n",
    "\n",
    "# Save and drop labels\n",
    "y = train.y\n",
    "X = X.drop('y', axis=1)\n",
    "\n",
    "# fill NANs \n",
    "X = X.fillna(-999)\n",
    "\n",
    "# Label encoder\n",
    "for c in train.columns[train.dtypes == 'object']:\n",
    "    X[c] = X[c].factorize()[0]\n",
    "    \n",
    "rf = RandomForestClassifier()\n",
    "rf.fit(X,y)"
   ]
  },
  {
   "cell_type": "code",
   "execution_count": 24,
   "metadata": {},
   "outputs": [
    {
     "data": {
      "image/png": "[encoded data removed]",
      "text/plain": [
       "<Figure size 432x288 with 1 Axes>"
      ]
     },
     "metadata": {
      "needs_background": "light"
     },
     "output_type": "display_data"
    }
   ],
   "source": [
    "plt.plot(rf.feature_importances_)\n",
    "plt.xticks(np.arange(X.shape[1]), X.columns.tolist(), rotation=90);"
   ]
  },
  {
   "cell_type": "markdown",
   "metadata": {},
   "source": [
    "There is something interesting about `x8`."
   ]
  },
  {
   "cell_type": "code",
   "execution_count": 26,
   "metadata": {},
   "outputs": [
    {
     "name": "stdout",
     "output_type": "stream",
     "text": [
      "Mean: -0.0002523520286219452\n",
      "std: 1.0232816360125667\n"
     ]
    }
   ],
   "source": [
    "# we see it was standard scaled, most likely, if we concat train and test, we will get exact mean=1, and std 1 \n",
    "print('Mean:', train.x8.mean())\n",
    "print('std:', train.x8.std())"
   ]
  },
  {
   "cell_type": "code",
   "execution_count": 28,
   "metadata": {
    "scrolled": true
   },
   "outputs": [
    {
     "data": {
      "text/plain": [
       "-2.984750    2770\n",
       " 0.480977    2569\n",
       " 0.610941    1828\n",
       " 0.654263    1759\n",
       " 0.567620    1746\n",
       " 0.697585    1691\n",
       " 0.524298    1639\n",
       " 0.740906    1628\n",
       " 0.394333    1610\n",
       " 0.437655    1513\n",
       " 0.351012    1450\n",
       " 0.264369    1429\n",
       " 0.307690    1401\n",
       " 0.221047    1372\n",
       " 0.784228    1293\n",
       "Name: x8, dtype: int64"
      ]
     },
     "execution_count": 28,
     "metadata": {},
     "output_type": "execute_result"
    }
   ],
   "source": [
    "# And we see that it has a lot of repeated values\n",
    "train.x8.value_counts().head(15)"
   ]
  },
  {
   "cell_type": "code",
   "execution_count": 29,
   "metadata": {},
   "outputs": [
    {
     "data": {
      "text/plain": [
       "array([43.27826527, 38.98942817,  0.21660793,  0.04332159,  0.17328635,\n",
       "        0.21660793,  0.08664317,  0.04332159,  0.04332159,  0.04332159,\n",
       "        0.04332159,  0.04332159,  0.04332159,  0.04332159,  0.04332159,\n",
       "        0.04332159,  0.04332159,  0.04332159,  0.04332159,  0.04332159,\n",
       "        0.04332159,  0.04332159,  0.04332159,  0.04332159,  0.04332159,\n",
       "        0.04332159,  0.04332159,  0.04332159,  0.04332159,  0.04332159,\n",
       "        0.04332159,  0.04332159,  0.04332159,  0.04332159,  0.04332159,\n",
       "        0.04332159,  0.04332159,  0.04332159,  0.04332159,  0.04332159,\n",
       "        0.04332159,  0.04332159,  0.04332159,  0.04332159,  0.04332159,\n",
       "        0.04332159,  0.04332159,  0.04332159,  0.04332159,  0.04332159,\n",
       "        0.04332159,  0.04332159,  0.04332159,  0.04332159,  0.04332159,\n",
       "        0.04332159,  0.04332159,  0.04332159,  0.04332159,  0.04332159,\n",
       "        0.04332159,  0.04332159,  0.04332159,  0.04332159,  0.04332159,\n",
       "        0.04332159,  0.04332159,  0.04332159,  0.04332159,  0.04332159,\n",
       "        0.04332159,  0.04332159,  0.04332159,  0.04332159,  0.04332159,\n",
       "        0.04332159,  0.04332159,  0.04332159,  0.04332159,  0.04332159,\n",
       "        0.04332159,  0.04332159,  0.04332159,  0.04332159,  0.04332159,\n",
       "        0.04332159,  0.12996476,  0.04332159,  0.04332159,  0.04332159,\n",
       "        0.04332159,  0.04332159,  0.04332159,  0.04332159,  0.21660793,\n",
       "        1.16968285,  0.04332159,  0.38989428,         nan])"
      ]
     },
     "execution_count": 29,
     "metadata": {},
     "output_type": "execute_result"
    }
   ],
   "source": [
    "# It's very hard to work with scaled feature, so let's try to scale them back\n",
    "# Let's first take a look at difference between neighbouring values in x8\n",
    "\n",
    "x8_unique = train.x8.unique()\n",
    "x8_unique_sorted = np.sort(x8_unique)\n",
    "                           \n",
    "np.diff(x8_unique_sorted)"
   ]
  },
  {
   "cell_type": "code",
   "execution_count": 30,
   "metadata": {},
   "outputs": [
    {
     "data": {
      "text/plain": [
       "array([998.99992752, 899.9999347 ,   4.99999964,   0.99999993,\n",
       "         3.99999971,   4.99999964,   1.99999985,   0.99999993,\n",
       "         0.99999993,   0.99999993,   0.99999993,   0.99999993,\n",
       "         0.99999993,   0.99999993,   0.99999993,   0.99999993,\n",
       "         0.99999993,   0.99999993,   0.99999993,   0.99999993,\n",
       "         0.99999993,   0.99999993,   0.99999993,   0.99999993,\n",
       "         0.99999993,   0.99999993,   0.99999993,   0.99999993,\n",
       "         0.99999993,   0.99999993,   0.99999993,   0.99999993,\n",
       "         0.99999993,   0.99999993,   0.99999993,   0.99999993,\n",
       "         0.99999993,   0.99999993,   0.99999993,   0.99999993,\n",
       "         0.99999993,   0.99999993,   0.99999993,   0.99999993,\n",
       "         0.99999993,   0.99999993,   0.99999993,   0.99999993,\n",
       "         0.99999993,   0.99999993,   0.99999993,   0.99999993,\n",
       "         0.99999993,   0.99999993,   0.99999993,   0.99999993,\n",
       "         0.99999993,   0.99999993,   0.99999993,   0.99999993,\n",
       "         0.99999993,   0.99999993,   0.99999993,   0.99999993,\n",
       "         0.99999993,   0.99999993,   0.99999993,   0.99999993,\n",
       "         0.99999993,   0.99999993,   0.99999993,   0.99999993,\n",
       "         0.99999993,   0.99999993,   0.99999993,   0.99999993,\n",
       "         0.99999993,   0.99999993,   0.99999993,   0.99999993,\n",
       "         0.99999993,   0.99999993,   0.99999993,   0.99999993,\n",
       "         0.99999993,   0.99999993,   2.99999978,   0.99999993,\n",
       "         0.99999993,   0.99999993,   0.99999993,   0.99999993,\n",
       "         0.99999993,   0.99999993,   4.99999964,  26.99999804,\n",
       "         0.99999993,   8.99999935,          nan])"
      ]
     },
     "execution_count": 30,
     "metadata": {},
     "output_type": "execute_result"
    }
   ],
   "source": [
    "# The most of the diffs are 0.04332159! \n",
    "# The data is scaled, so we don't know what was the diff value for the original feature\n",
    "# But let's assume it was 1.0\n",
    "# Let's devide all the numbers by 0.04332159 to get the right scaling\n",
    "# note, that feature will still have zero mean\n",
    "\n",
    "np.diff(x8_unique_sorted/0.04332159)"
   ]
  },
  {
   "cell_type": "code",
   "execution_count": 31,
   "metadata": {},
   "outputs": [
    {
     "data": {
      "text/plain": [
       "0   -15.897530\n",
       "1    20.102468\n",
       "2    10.102468\n",
       "3     0.102469\n",
       "4    11.102468\n",
       "5   -68.897526\n",
       "6    10.102468\n",
       "7    15.102468\n",
       "8     9.102468\n",
       "9   -68.897526\n",
       "Name: x8, dtype: float64"
      ]
     },
     "execution_count": 31,
     "metadata": {},
     "output_type": "execute_result"
    }
   ],
   "source": [
    "(train.x8/0.04332159).head(10)"
   ]
  },
  {
   "cell_type": "code",
   "execution_count": 32,
   "metadata": {
    "scrolled": true
   },
   "outputs": [
    {
     "data": {
      "text/plain": [
       "0   -15.999998\n",
       "1    20.000000\n",
       "2    10.000000\n",
       "3     0.000001\n",
       "4    11.000000\n",
       "5   -68.999994\n",
       "6    10.000000\n",
       "7    15.000000\n",
       "8     9.000000\n",
       "9   -68.999994\n",
       "Name: x8, dtype: float64"
      ]
     },
     "execution_count": 32,
     "metadata": {},
     "output_type": "execute_result"
    }
   ],
   "source": [
    "# Ok, now we see .102468 in every value\n",
    "# this looks like a part of a mean that was subtracted during standard scaling\n",
    "# If we subtract it, the values become almost integers\n",
    "(train.x8/0.04332159 - .102468).head(10)"
   ]
  },
  {
   "cell_type": "code",
   "execution_count": 33,
   "metadata": {},
   "outputs": [
    {
     "data": {
      "text/plain": [
       "0   -16.0\n",
       "1    20.0\n",
       "2    10.0\n",
       "3     0.0\n",
       "4    11.0\n",
       "5   -69.0\n",
       "6    10.0\n",
       "7    15.0\n",
       "8     9.0\n",
       "9   -69.0\n",
       "Name: x8, dtype: float64"
      ]
     },
     "execution_count": 33,
     "metadata": {},
     "output_type": "execute_result"
    }
   ],
   "source": [
    "# let's round them \n",
    "x8_int = (train.x8/0.04332159 - .102468).round()\n",
    "x8_int.head(10)"
   ]
  },
  {
   "cell_type": "code",
   "execution_count": 34,
   "metadata": {},
   "outputs": [],
   "source": [
    "# Ok, what's next? In fact it is not obvious how to find shift parameter, \n",
    "# and how to understand what the data this feature actually store\n",
    "# But ..."
   ]
  },
  {
   "cell_type": "code",
   "execution_count": 35,
   "metadata": {},
   "outputs": [
    {
     "data": {
      "text/plain": [
       "-69.0    2770\n",
       " 11.0    2569\n",
       " 14.0    1828\n",
       " 15.0    1759\n",
       " 13.0    1746\n",
       "         ... \n",
       " 42.0       1\n",
       "-63.0       1\n",
       "-48.0       1\n",
       "-64.0       1\n",
       " 35.0       1\n",
       "Name: x8, Length: 99, dtype: int64"
      ]
     },
     "execution_count": 35,
     "metadata": {},
     "output_type": "execute_result"
    }
   ],
   "source": [
    "x8_int.value_counts()"
   ]
  },
  {
   "cell_type": "code",
   "execution_count": 36,
   "metadata": {},
   "outputs": [],
   "source": [
    "# do you see this -1968? Doesn't it look like a year? ... So my hypothesis is that this feature is a year of birth! \n",
    "# Maybe it was a textbox where users enter their year of birth, and someone entered 0000 instead\n",
    "# The hypothesis looks plausible, isn't it?"
   ]
  },
  {
   "cell_type": "code",
   "execution_count": 37,
   "metadata": {},
   "outputs": [
    {
     "data": {
      "text/plain": [
       "0.0          1\n",
       "999.0        4\n",
       "1899.0    2770\n",
       "1904.0       1\n",
       "1905.0       1\n",
       "          ... \n",
       "2005.0       2\n",
       "2010.0       1\n",
       "2037.0       1\n",
       "2038.0       1\n",
       "2047.0       1\n",
       "Name: x8, Length: 99, dtype: int64"
      ]
     },
     "execution_count": 37,
     "metadata": {},
     "output_type": "execute_result"
    }
   ],
   "source": [
    "(x8_int + 1968.0).value_counts().sort_index()"
   ]
  },
  {
   "cell_type": "code",
   "execution_count": 23,
   "metadata": {
    "collapsed": true
   },
   "outputs": [],
   "source": [
    "# After the competition ended the organisers told it was really a year of birth"
   ]
  }
 ],
 "metadata": {
  "kernelspec": {
   "display_name": "Python 3",
   "language": "python",
   "name": "python3"
  },
  "language_info": {
   "codemirror_mode": {
    "name": "ipython",
    "version": 3
   },
   "file_extension": ".py",
   "mimetype": "text/x-python",
   "name": "python",
   "nbconvert_exporter": "python",
   "pygments_lexer": "ipython3",
   "version": "3.6.8"
  }
 },
 "nbformat": 4,
 "nbformat_minor": 2
}
